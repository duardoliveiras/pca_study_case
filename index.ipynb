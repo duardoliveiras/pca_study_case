{
 "cells": [
  {
   "cell_type": "markdown",
   "metadata": {},
   "source": [
    "## Stellar Classification Dataset\n",
    "\n",
    "Base de dados pública disponível em: https://www.kaggle.com/datasets/fedesoriano/stellar-classification-dataset-sdss17s\n",
    "\n",
    "O objetivo desse projeto é entender melhor a aplicação da técnica de Análise de Componentes Principais.\n"
   ]
  },
  {
   "cell_type": "code",
   "execution_count": 272,
   "metadata": {},
   "outputs": [
    {
     "data": {
      "text/html": [
       "<div>\n",
       "<style scoped>\n",
       "    .dataframe tbody tr th:only-of-type {\n",
       "        vertical-align: middle;\n",
       "    }\n",
       "\n",
       "    .dataframe tbody tr th {\n",
       "        vertical-align: top;\n",
       "    }\n",
       "\n",
       "    .dataframe thead th {\n",
       "        text-align: right;\n",
       "    }\n",
       "</style>\n",
       "<table border=\"1\" class=\"dataframe\">\n",
       "  <thead>\n",
       "    <tr style=\"text-align: right;\">\n",
       "      <th></th>\n",
       "      <th>obj_ID</th>\n",
       "      <th>alpha</th>\n",
       "      <th>delta</th>\n",
       "      <th>u</th>\n",
       "      <th>g</th>\n",
       "      <th>r</th>\n",
       "      <th>i</th>\n",
       "      <th>z</th>\n",
       "      <th>run_ID</th>\n",
       "      <th>rerun_ID</th>\n",
       "      <th>cam_col</th>\n",
       "      <th>field_ID</th>\n",
       "      <th>spec_obj_ID</th>\n",
       "      <th>class</th>\n",
       "      <th>redshift</th>\n",
       "      <th>plate</th>\n",
       "      <th>MJD</th>\n",
       "      <th>fiber_ID</th>\n",
       "    </tr>\n",
       "  </thead>\n",
       "  <tbody>\n",
       "    <tr>\n",
       "      <th>0</th>\n",
       "      <td>1.237661e+18</td>\n",
       "      <td>135.689107</td>\n",
       "      <td>32.494632</td>\n",
       "      <td>23.87882</td>\n",
       "      <td>22.27530</td>\n",
       "      <td>20.39501</td>\n",
       "      <td>19.16573</td>\n",
       "      <td>18.79371</td>\n",
       "      <td>3606</td>\n",
       "      <td>301</td>\n",
       "      <td>2</td>\n",
       "      <td>79</td>\n",
       "      <td>6.543777e+18</td>\n",
       "      <td>GALAXY</td>\n",
       "      <td>0.634794</td>\n",
       "      <td>5812</td>\n",
       "      <td>56354</td>\n",
       "      <td>171</td>\n",
       "    </tr>\n",
       "    <tr>\n",
       "      <th>1</th>\n",
       "      <td>1.237665e+18</td>\n",
       "      <td>144.826101</td>\n",
       "      <td>31.274185</td>\n",
       "      <td>24.77759</td>\n",
       "      <td>22.83188</td>\n",
       "      <td>22.58444</td>\n",
       "      <td>21.16812</td>\n",
       "      <td>21.61427</td>\n",
       "      <td>4518</td>\n",
       "      <td>301</td>\n",
       "      <td>5</td>\n",
       "      <td>119</td>\n",
       "      <td>1.176014e+19</td>\n",
       "      <td>GALAXY</td>\n",
       "      <td>0.779136</td>\n",
       "      <td>10445</td>\n",
       "      <td>58158</td>\n",
       "      <td>427</td>\n",
       "    </tr>\n",
       "    <tr>\n",
       "      <th>2</th>\n",
       "      <td>1.237661e+18</td>\n",
       "      <td>142.188790</td>\n",
       "      <td>35.582444</td>\n",
       "      <td>25.26307</td>\n",
       "      <td>22.66389</td>\n",
       "      <td>20.60976</td>\n",
       "      <td>19.34857</td>\n",
       "      <td>18.94827</td>\n",
       "      <td>3606</td>\n",
       "      <td>301</td>\n",
       "      <td>2</td>\n",
       "      <td>120</td>\n",
       "      <td>5.152200e+18</td>\n",
       "      <td>GALAXY</td>\n",
       "      <td>0.644195</td>\n",
       "      <td>4576</td>\n",
       "      <td>55592</td>\n",
       "      <td>299</td>\n",
       "    </tr>\n",
       "    <tr>\n",
       "      <th>3</th>\n",
       "      <td>1.237663e+18</td>\n",
       "      <td>338.741038</td>\n",
       "      <td>-0.402828</td>\n",
       "      <td>22.13682</td>\n",
       "      <td>23.77656</td>\n",
       "      <td>21.61162</td>\n",
       "      <td>20.50454</td>\n",
       "      <td>19.25010</td>\n",
       "      <td>4192</td>\n",
       "      <td>301</td>\n",
       "      <td>3</td>\n",
       "      <td>214</td>\n",
       "      <td>1.030107e+19</td>\n",
       "      <td>GALAXY</td>\n",
       "      <td>0.932346</td>\n",
       "      <td>9149</td>\n",
       "      <td>58039</td>\n",
       "      <td>775</td>\n",
       "    </tr>\n",
       "    <tr>\n",
       "      <th>4</th>\n",
       "      <td>1.237680e+18</td>\n",
       "      <td>345.282593</td>\n",
       "      <td>21.183866</td>\n",
       "      <td>19.43718</td>\n",
       "      <td>17.58028</td>\n",
       "      <td>16.49747</td>\n",
       "      <td>15.97711</td>\n",
       "      <td>15.54461</td>\n",
       "      <td>8102</td>\n",
       "      <td>301</td>\n",
       "      <td>3</td>\n",
       "      <td>137</td>\n",
       "      <td>6.891865e+18</td>\n",
       "      <td>GALAXY</td>\n",
       "      <td>0.116123</td>\n",
       "      <td>6121</td>\n",
       "      <td>56187</td>\n",
       "      <td>842</td>\n",
       "    </tr>\n",
       "    <tr>\n",
       "      <th>...</th>\n",
       "      <td>...</td>\n",
       "      <td>...</td>\n",
       "      <td>...</td>\n",
       "      <td>...</td>\n",
       "      <td>...</td>\n",
       "      <td>...</td>\n",
       "      <td>...</td>\n",
       "      <td>...</td>\n",
       "      <td>...</td>\n",
       "      <td>...</td>\n",
       "      <td>...</td>\n",
       "      <td>...</td>\n",
       "      <td>...</td>\n",
       "      <td>...</td>\n",
       "      <td>...</td>\n",
       "      <td>...</td>\n",
       "      <td>...</td>\n",
       "      <td>...</td>\n",
       "    </tr>\n",
       "    <tr>\n",
       "      <th>99995</th>\n",
       "      <td>1.237679e+18</td>\n",
       "      <td>39.620709</td>\n",
       "      <td>-2.594074</td>\n",
       "      <td>22.16759</td>\n",
       "      <td>22.97586</td>\n",
       "      <td>21.90404</td>\n",
       "      <td>21.30548</td>\n",
       "      <td>20.73569</td>\n",
       "      <td>7778</td>\n",
       "      <td>301</td>\n",
       "      <td>2</td>\n",
       "      <td>581</td>\n",
       "      <td>1.055431e+19</td>\n",
       "      <td>GALAXY</td>\n",
       "      <td>0.000000</td>\n",
       "      <td>9374</td>\n",
       "      <td>57749</td>\n",
       "      <td>438</td>\n",
       "    </tr>\n",
       "    <tr>\n",
       "      <th>99996</th>\n",
       "      <td>1.237679e+18</td>\n",
       "      <td>29.493819</td>\n",
       "      <td>19.798874</td>\n",
       "      <td>22.69118</td>\n",
       "      <td>22.38628</td>\n",
       "      <td>20.45003</td>\n",
       "      <td>19.75759</td>\n",
       "      <td>19.41526</td>\n",
       "      <td>7917</td>\n",
       "      <td>301</td>\n",
       "      <td>1</td>\n",
       "      <td>289</td>\n",
       "      <td>8.586351e+18</td>\n",
       "      <td>GALAXY</td>\n",
       "      <td>0.404895</td>\n",
       "      <td>7626</td>\n",
       "      <td>56934</td>\n",
       "      <td>866</td>\n",
       "    </tr>\n",
       "    <tr>\n",
       "      <th>99997</th>\n",
       "      <td>1.237668e+18</td>\n",
       "      <td>224.587407</td>\n",
       "      <td>15.700707</td>\n",
       "      <td>21.16916</td>\n",
       "      <td>19.26997</td>\n",
       "      <td>18.20428</td>\n",
       "      <td>17.69034</td>\n",
       "      <td>17.35221</td>\n",
       "      <td>5314</td>\n",
       "      <td>301</td>\n",
       "      <td>4</td>\n",
       "      <td>308</td>\n",
       "      <td>3.112008e+18</td>\n",
       "      <td>GALAXY</td>\n",
       "      <td>0.143366</td>\n",
       "      <td>2764</td>\n",
       "      <td>54535</td>\n",
       "      <td>74</td>\n",
       "    </tr>\n",
       "    <tr>\n",
       "      <th>99998</th>\n",
       "      <td>1.237661e+18</td>\n",
       "      <td>212.268621</td>\n",
       "      <td>46.660365</td>\n",
       "      <td>25.35039</td>\n",
       "      <td>21.63757</td>\n",
       "      <td>19.91386</td>\n",
       "      <td>19.07254</td>\n",
       "      <td>18.62482</td>\n",
       "      <td>3650</td>\n",
       "      <td>301</td>\n",
       "      <td>4</td>\n",
       "      <td>131</td>\n",
       "      <td>7.601080e+18</td>\n",
       "      <td>GALAXY</td>\n",
       "      <td>0.455040</td>\n",
       "      <td>6751</td>\n",
       "      <td>56368</td>\n",
       "      <td>470</td>\n",
       "    </tr>\n",
       "    <tr>\n",
       "      <th>99999</th>\n",
       "      <td>1.237661e+18</td>\n",
       "      <td>196.896053</td>\n",
       "      <td>49.464643</td>\n",
       "      <td>22.62171</td>\n",
       "      <td>21.79745</td>\n",
       "      <td>20.60115</td>\n",
       "      <td>20.00959</td>\n",
       "      <td>19.28075</td>\n",
       "      <td>3650</td>\n",
       "      <td>301</td>\n",
       "      <td>4</td>\n",
       "      <td>60</td>\n",
       "      <td>8.343152e+18</td>\n",
       "      <td>GALAXY</td>\n",
       "      <td>0.542944</td>\n",
       "      <td>7410</td>\n",
       "      <td>57104</td>\n",
       "      <td>851</td>\n",
       "    </tr>\n",
       "  </tbody>\n",
       "</table>\n",
       "<p>100000 rows × 18 columns</p>\n",
       "</div>"
      ],
      "text/plain": [
       "             obj_ID       alpha      delta         u         g         r  \\\n",
       "0      1.237661e+18  135.689107  32.494632  23.87882  22.27530  20.39501   \n",
       "1      1.237665e+18  144.826101  31.274185  24.77759  22.83188  22.58444   \n",
       "2      1.237661e+18  142.188790  35.582444  25.26307  22.66389  20.60976   \n",
       "3      1.237663e+18  338.741038  -0.402828  22.13682  23.77656  21.61162   \n",
       "4      1.237680e+18  345.282593  21.183866  19.43718  17.58028  16.49747   \n",
       "...             ...         ...        ...       ...       ...       ...   \n",
       "99995  1.237679e+18   39.620709  -2.594074  22.16759  22.97586  21.90404   \n",
       "99996  1.237679e+18   29.493819  19.798874  22.69118  22.38628  20.45003   \n",
       "99997  1.237668e+18  224.587407  15.700707  21.16916  19.26997  18.20428   \n",
       "99998  1.237661e+18  212.268621  46.660365  25.35039  21.63757  19.91386   \n",
       "99999  1.237661e+18  196.896053  49.464643  22.62171  21.79745  20.60115   \n",
       "\n",
       "              i         z  run_ID  rerun_ID  cam_col  field_ID   spec_obj_ID  \\\n",
       "0      19.16573  18.79371    3606       301        2        79  6.543777e+18   \n",
       "1      21.16812  21.61427    4518       301        5       119  1.176014e+19   \n",
       "2      19.34857  18.94827    3606       301        2       120  5.152200e+18   \n",
       "3      20.50454  19.25010    4192       301        3       214  1.030107e+19   \n",
       "4      15.97711  15.54461    8102       301        3       137  6.891865e+18   \n",
       "...         ...       ...     ...       ...      ...       ...           ...   \n",
       "99995  21.30548  20.73569    7778       301        2       581  1.055431e+19   \n",
       "99996  19.75759  19.41526    7917       301        1       289  8.586351e+18   \n",
       "99997  17.69034  17.35221    5314       301        4       308  3.112008e+18   \n",
       "99998  19.07254  18.62482    3650       301        4       131  7.601080e+18   \n",
       "99999  20.00959  19.28075    3650       301        4        60  8.343152e+18   \n",
       "\n",
       "        class  redshift  plate    MJD  fiber_ID  \n",
       "0      GALAXY  0.634794   5812  56354       171  \n",
       "1      GALAXY  0.779136  10445  58158       427  \n",
       "2      GALAXY  0.644195   4576  55592       299  \n",
       "3      GALAXY  0.932346   9149  58039       775  \n",
       "4      GALAXY  0.116123   6121  56187       842  \n",
       "...       ...       ...    ...    ...       ...  \n",
       "99995  GALAXY  0.000000   9374  57749       438  \n",
       "99996  GALAXY  0.404895   7626  56934       866  \n",
       "99997  GALAXY  0.143366   2764  54535        74  \n",
       "99998  GALAXY  0.455040   6751  56368       470  \n",
       "99999  GALAXY  0.542944   7410  57104       851  \n",
       "\n",
       "[100000 rows x 18 columns]"
      ]
     },
     "execution_count": 272,
     "metadata": {},
     "output_type": "execute_result"
    }
   ],
   "source": [
    "import pandas as pd\n",
    "import numpy as np\n",
    "\n",
    "data_star = pd.read_csv('data/star_classification.csv')\n",
    "data_star"
   ]
  },
  {
   "cell_type": "code",
   "execution_count": 273,
   "metadata": {},
   "outputs": [
    {
     "data": {
      "text/html": [
       "<div>\n",
       "<style scoped>\n",
       "    .dataframe tbody tr th:only-of-type {\n",
       "        vertical-align: middle;\n",
       "    }\n",
       "\n",
       "    .dataframe tbody tr th {\n",
       "        vertical-align: top;\n",
       "    }\n",
       "\n",
       "    .dataframe thead th {\n",
       "        text-align: right;\n",
       "    }\n",
       "</style>\n",
       "<table border=\"1\" class=\"dataframe\">\n",
       "  <thead>\n",
       "    <tr style=\"text-align: right;\">\n",
       "      <th></th>\n",
       "      <th>class</th>\n",
       "      <th>label</th>\n",
       "      <th>quantity</th>\n",
       "    </tr>\n",
       "  </thead>\n",
       "  <tbody>\n",
       "    <tr>\n",
       "      <th>0</th>\n",
       "      <td>GALAXY</td>\n",
       "      <td>0</td>\n",
       "      <td>59445</td>\n",
       "    </tr>\n",
       "    <tr>\n",
       "      <th>1</th>\n",
       "      <td>QSO</td>\n",
       "      <td>1</td>\n",
       "      <td>18961</td>\n",
       "    </tr>\n",
       "    <tr>\n",
       "      <th>2</th>\n",
       "      <td>STAR</td>\n",
       "      <td>2</td>\n",
       "      <td>21594</td>\n",
       "    </tr>\n",
       "  </tbody>\n",
       "</table>\n",
       "</div>"
      ],
      "text/plain": [
       "    class  label  quantity\n",
       "0  GALAXY      0     59445\n",
       "1     QSO      1     18961\n",
       "2    STAR      2     21594"
      ]
     },
     "execution_count": 273,
     "metadata": {},
     "output_type": "execute_result"
    }
   ],
   "source": [
    "from sklearn.preprocessing import LabelEncoder\n",
    "\n",
    "# Predições\n",
    "y_class = data_star[\"class\"].values\n",
    "\n",
    "classes = np.unique(y_class)\n",
    "\n",
    "labelEncoder = LabelEncoder()  # Funcao para gerar IDs para as classes\n",
    "y = labelEncoder.fit_transform(y_class)\n",
    "\n",
    "classes_label = np.unique(y, return_counts=True)\n",
    "\n",
    "classificacoes = {\n",
    "    'class': classes,\n",
    "    'label': classes_label[0],\n",
    "    'quantity': classes_label[1]\n",
    "}\n",
    "\n",
    "df = pd.DataFrame(classificacoes)\n",
    "df.head()"
   ]
  },
  {
   "cell_type": "code",
   "execution_count": 274,
   "metadata": {},
   "outputs": [
    {
     "data": {
      "text/html": [
       "<div>\n",
       "<style scoped>\n",
       "    .dataframe tbody tr th:only-of-type {\n",
       "        vertical-align: middle;\n",
       "    }\n",
       "\n",
       "    .dataframe tbody tr th {\n",
       "        vertical-align: top;\n",
       "    }\n",
       "\n",
       "    .dataframe thead th {\n",
       "        text-align: right;\n",
       "    }\n",
       "</style>\n",
       "<table border=\"1\" class=\"dataframe\">\n",
       "  <thead>\n",
       "    <tr style=\"text-align: right;\">\n",
       "      <th></th>\n",
       "      <th>media_original</th>\n",
       "      <th>desvio_original</th>\n",
       "      <th>media_padronizada</th>\n",
       "      <th>desvio_padronizado</th>\n",
       "    </tr>\n",
       "  </thead>\n",
       "  <tbody>\n",
       "    <tr>\n",
       "      <th>0</th>\n",
       "      <td>1.237665e+18</td>\n",
       "      <td>8.438518e+12</td>\n",
       "      <td>1.761978e-11</td>\n",
       "      <td>1.0</td>\n",
       "    </tr>\n",
       "    <tr>\n",
       "      <th>1</th>\n",
       "      <td>1.776291e+02</td>\n",
       "      <td>9.650176e+01</td>\n",
       "      <td>-3.970513e-16</td>\n",
       "      <td>1.0</td>\n",
       "    </tr>\n",
       "    <tr>\n",
       "      <th>2</th>\n",
       "      <td>2.413530e+01</td>\n",
       "      <td>1.964457e+01</td>\n",
       "      <td>1.173817e-16</td>\n",
       "      <td>1.0</td>\n",
       "    </tr>\n",
       "    <tr>\n",
       "      <th>3</th>\n",
       "      <td>2.198047e+01</td>\n",
       "      <td>3.176913e+01</td>\n",
       "      <td>2.279066e-17</td>\n",
       "      <td>1.0</td>\n",
       "    </tr>\n",
       "    <tr>\n",
       "      <th>4</th>\n",
       "      <td>2.053139e+01</td>\n",
       "      <td>3.175013e+01</td>\n",
       "      <td>2.815526e-17</td>\n",
       "      <td>1.0</td>\n",
       "    </tr>\n",
       "  </tbody>\n",
       "</table>\n",
       "</div>"
      ],
      "text/plain": [
       "   media_original  desvio_original  media_padronizada  desvio_padronizado\n",
       "0    1.237665e+18     8.438518e+12       1.761978e-11                 1.0\n",
       "1    1.776291e+02     9.650176e+01      -3.970513e-16                 1.0\n",
       "2    2.413530e+01     1.964457e+01       1.173817e-16                 1.0\n",
       "3    2.198047e+01     3.176913e+01       2.279066e-17                 1.0\n",
       "4    2.053139e+01     3.175013e+01       2.815526e-17                 1.0"
      ]
     },
     "execution_count": 274,
     "metadata": {},
     "output_type": "execute_result"
    }
   ],
   "source": [
    "from sklearn.preprocessing import StandardScaler\n",
    "\n",
    "# Features\n",
    "x = data_star.loc[:, data_star.columns != 'class'].values\n",
    "\n",
    "media_original = np.mean(x, axis=0)\n",
    "desvio_original = np.std(x, axis=0)\n",
    "\n",
    "standardScaler = StandardScaler()  # Objeto para normalizar a escala das features\n",
    "x = standardScaler.fit_transform(x.astype(float))\n",
    "\n",
    "media_padronizada = np.mean(x, axis=0)\n",
    "desvio_padronizado = np.std(x, axis=0)\n",
    "\n",
    "# Existe uma variação na escala dos dados, exemplo:\n",
    "# O atributo redshift: 0.634\n",
    "# Enquanto o alpha: 338.74\n",
    "# O standardScaler padroniza de forma que os dados tenham média zero\n",
    "# E desvio padrão 1\n",
    "\n",
    "features = {\n",
    "    'media_original': media_original,\n",
    "    'desvio_original': desvio_original,\n",
    "    'media_padronizada': media_padronizada,\n",
    "    'desvio_padronizado': desvio_padronizado\n",
    "}\n",
    "\n",
    "df_features = pd.DataFrame(features)\n",
    "df_features.head()"
   ]
  },
  {
   "cell_type": "code",
   "execution_count": 275,
   "metadata": {},
   "outputs": [
    {
     "name": "stdout",
     "output_type": "stream",
     "text": [
      "X shape: (100000, 17)\n",
      "y shape: (100000,)\n"
     ]
    }
   ],
   "source": [
    "print(f'X shape: {x.shape}')\n",
    "print(f'y shape: {y.shape}')"
   ]
  },
  {
   "cell_type": "code",
   "execution_count": 276,
   "metadata": {},
   "outputs": [
    {
     "name": "stdout",
     "output_type": "stream",
     "text": [
      "Treino: 85000 \n",
      "Teste: 15000\n"
     ]
    }
   ],
   "source": [
    "# Separando dados\n",
    "\n",
    "from sklearn.model_selection import train_test_split\n",
    "\n",
    "xTrain, xTest, yTrain, yTest = train_test_split(x, y, test_size=0.15)\n",
    "\n",
    "print(f'Treino: {len(xTrain)} \\nTeste: {len(xTest)}')"
   ]
  },
  {
   "cell_type": "code",
   "execution_count": 277,
   "metadata": {},
   "outputs": [
    {
     "name": "stdout",
     "output_type": "stream",
     "text": [
      "Tempo:  1.3247354770001039\n"
     ]
    },
    {
     "data": {
      "text/plain": [
       "0.9538"
      ]
     },
     "execution_count": 277,
     "metadata": {},
     "output_type": "execute_result"
    }
   ],
   "source": [
    "# Treinamento utilizando apenas LogisticRegression\n",
    "\n",
    "import time\n",
    "from sklearn.linear_model import LogisticRegression\n",
    "\n",
    "model = LogisticRegression(solver='lbfgs', max_iter=500)\n",
    "\n",
    "start_time = time.perf_counter()\n",
    "model.fit(xTrain, yTrain)\n",
    "end_time = time.perf_counter()\n",
    "\n",
    "print(\"Tempo: \", end_time - start_time)\n",
    "model.score(xTest, yTest)"
   ]
  },
  {
   "cell_type": "code",
   "execution_count": 278,
   "metadata": {},
   "outputs": [
    {
     "data": {
      "text/plain": [
       "<sklearn.metrics._plot.confusion_matrix.ConfusionMatrixDisplay at 0x7f4c6527b4d0>"
      ]
     },
     "execution_count": 278,
     "metadata": {},
     "output_type": "execute_result"
    },
    {
     "data": {
      "image/png": "[encoded data removed]",
      "text/plain": [
       "<Figure size 640x480 with 2 Axes>"
      ]
     },
     "metadata": {},
     "output_type": "display_data"
    }
   ],
   "source": [
    "from sklearn.metrics import ConfusionMatrixDisplay\n",
    "\n",
    "ConfusionMatrixDisplay.from_estimator(model, xTest, yTest)"
   ]
  },
  {
   "cell_type": "code",
   "execution_count": 279,
   "metadata": {},
   "outputs": [
    {
     "name": "stdout",
     "output_type": "stream",
     "text": [
      "Soma das componentes principais: 0.995\n"
     ]
    }
   ],
   "source": [
    "# Para aplicar o PCA o dados tem que estarem normalizados\n",
    "\n",
    "from sklearn import decomposition\n",
    "\n",
    "pca = decomposition.PCA(n_components=10)\n",
    "xTrain = pca.fit_transform(xTrain)\n",
    "xTest = pca.transform(xTest)\n",
    "\n",
    "pc_array = pca.explained_variance_ratio_\n",
    "print(f'Soma das componentes principais: {\n",
    "      np.sum(pca.explained_variance_ratio_).round(3)}')\n",
    "\n",
    "# Com 10 componentes, temos uma representação de 0.997% dos dados originais, ou seja,\n",
    "# Descartamos toda redundância sem perder informação importante."
   ]
  },
  {
   "cell_type": "code",
   "execution_count": 280,
   "metadata": {},
   "outputs": [
    {
     "name": "stdout",
     "output_type": "stream",
     "text": [
      "Shape após o PCA\n",
      "x_train shape: (85000, 10)\n",
      "y_train shape: (85000,)\n"
     ]
    }
   ],
   "source": [
    "print(f'Shape após o PCA')\n",
    "print(f'x_train shape: {xTrain.shape}')\n",
    "print(f'y_train shape: {yTrain.shape}')"
   ]
  },
  {
   "cell_type": "code",
   "execution_count": 281,
   "metadata": {},
   "outputs": [
    {
     "name": "stdout",
     "output_type": "stream",
     "text": [
      "Tempo:  0.6740567909992023\n"
     ]
    },
    {
     "data": {
      "text/plain": [
       "0.949"
      ]
     },
     "execution_count": 281,
     "metadata": {},
     "output_type": "execute_result"
    }
   ],
   "source": [
    "# Treinamento com após o PCA\n",
    "\n",
    "model = LogisticRegression(solver='lbfgs', max_iter=500)\n",
    "\n",
    "start_time = time.perf_counter()\n",
    "model.fit(xTrain, yTrain)\n",
    "end_time = time.perf_counter()\n",
    "\n",
    "print(\"Tempo: \", end_time - start_time)\n",
    "model.score(xTest, yTest)"
   ]
  },
  {
   "cell_type": "code",
   "execution_count": 282,
   "metadata": {},
   "outputs": [
    {
     "name": "stdout",
     "output_type": "stream",
     "text": [
      "[0.28568018 0.21263563]\n"
     ]
    }
   ],
   "source": [
    "# Teste para visualização do PCA\n",
    "pca_viewer = decomposition.PCA(n_components=2)\n",
    "principal_components = pca_viewer.fit_transform(xTrain)\n",
    "\n",
    "\n",
    "# Explained_Variance_Ratio representa o quando as componentes representa os dados originais\n",
    "# [0.28, 0.21] ou seja, o pca explica 49% dos dados originais representando uma perca de 51% de informação\n",
    "print(pca_viewer.explained_variance_ratio_)"
   ]
  },
  {
   "cell_type": "code",
   "execution_count": 283,
   "metadata": {},
   "outputs": [
    {
     "data": {
      "text/html": [
       "<div>\n",
       "<style scoped>\n",
       "    .dataframe tbody tr th:only-of-type {\n",
       "        vertical-align: middle;\n",
       "    }\n",
       "\n",
       "    .dataframe tbody tr th {\n",
       "        vertical-align: top;\n",
       "    }\n",
       "\n",
       "    .dataframe thead th {\n",
       "        text-align: right;\n",
       "    }\n",
       "</style>\n",
       "<table border=\"1\" class=\"dataframe\">\n",
       "  <thead>\n",
       "    <tr style=\"text-align: right;\">\n",
       "      <th></th>\n",
       "      <th>pc1</th>\n",
       "      <th>pc2</th>\n",
       "    </tr>\n",
       "  </thead>\n",
       "  <tbody>\n",
       "    <tr>\n",
       "      <th>0</th>\n",
       "      <td>2.317946</td>\n",
       "      <td>-0.281873</td>\n",
       "    </tr>\n",
       "    <tr>\n",
       "      <th>1</th>\n",
       "      <td>3.449708</td>\n",
       "      <td>-0.441740</td>\n",
       "    </tr>\n",
       "    <tr>\n",
       "      <th>2</th>\n",
       "      <td>3.463598</td>\n",
       "      <td>-0.438252</td>\n",
       "    </tr>\n",
       "    <tr>\n",
       "      <th>3</th>\n",
       "      <td>-0.142938</td>\n",
       "      <td>0.005880</td>\n",
       "    </tr>\n",
       "    <tr>\n",
       "      <th>4</th>\n",
       "      <td>-0.145088</td>\n",
       "      <td>0.058683</td>\n",
       "    </tr>\n",
       "  </tbody>\n",
       "</table>\n",
       "</div>"
      ],
      "text/plain": [
       "        pc1       pc2\n",
       "0  2.317946 -0.281873\n",
       "1  3.449708 -0.441740\n",
       "2  3.463598 -0.438252\n",
       "3 -0.142938  0.005880\n",
       "4 -0.145088  0.058683"
      ]
     },
     "execution_count": 283,
     "metadata": {},
     "output_type": "execute_result"
    }
   ],
   "source": [
    "pc_df = pd.DataFrame(data=principal_components, columns=['pc1', 'pc2'])\n",
    "pc_df.head()"
   ]
  },
  {
   "cell_type": "code",
   "execution_count": 284,
   "metadata": {},
   "outputs": [
    {
     "data": {
      "text/plain": [
       "array(['GALAXY', 'QSO', 'GALAXY', ..., 'QSO', 'GALAXY', 'GALAXY'],\n",
       "      dtype=object)"
      ]
     },
     "execution_count": 284,
     "metadata": {},
     "output_type": "execute_result"
    }
   ],
   "source": [
    "yTrain.astype(int)\n",
    "# Troca o label pela classe\n",
    "yTrain = labelEncoder.inverse_transform(yTrain)\n",
    "\n",
    "yTrain"
   ]
  },
  {
   "cell_type": "code",
   "execution_count": 285,
   "metadata": {},
   "outputs": [
    {
     "data": {
      "text/plain": [
       "<Figure size 640x480 with 0 Axes>"
      ]
     },
     "metadata": {},
     "output_type": "display_data"
    },
    {
     "data": {
      "image/png": "[encoded data removed]",
      "text/plain": [
       "<Figure size 800x800 with 1 Axes>"
      ]
     },
     "metadata": {},
     "output_type": "display_data"
    }
   ],
   "source": [
    "import matplotlib.pyplot as plt\n",
    "\n",
    "plt.figure()\n",
    "plt.figure(figsize=(8, 8))\n",
    "plt.xticks(fontsize=12)\n",
    "plt.yticks(fontsize=12)\n",
    "plt.xlabel('pc1', fontsize=12)\n",
    "plt.ylabel('pc2', fontsize=12)\n",
    "plt.xlim(-10, 10)\n",
    "plt.ylim(-1, 1)\n",
    "plt.title(\"PCA\", fontsize=12)\n",
    "colors = ['r', 'g', 'b']\n",
    "\n",
    "for classe, color in zip(classes, colors):\n",
    "    indexKeep = yTrain == classe\n",
    "    plt.scatter(pc_df.loc[indexKeep, 'pc1'],\n",
    "                pc_df.loc[indexKeep, 'pc2'],\n",
    "                c = color, s = 25, alpha = 0.35)\n",
    "plt.legend(classes, prop={'size': 15})\n",
    "plt.show()\n"
   ]
  }
 ],
 "metadata": {
  "kernelspec": {
   "display_name": ".venv",
   "language": "python",
   "name": "python3"
  },
  "language_info": {
   "codemirror_mode": {
    "name": "ipython",
    "version": 3
   },
   "file_extension": ".py",
   "mimetype": "text/x-python",
   "name": "python",
   "nbconvert_exporter": "python",
   "pygments_lexer": "ipython3",
   "version": "3.12.5"
  }
 },
 "nbformat": 4,
 "nbformat_minor": 2
}
